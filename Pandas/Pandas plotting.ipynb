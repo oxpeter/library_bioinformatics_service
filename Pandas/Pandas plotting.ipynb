{
 "cells": [
  {
   "cell_type": "markdown",
   "metadata": {},
   "source": [
    "# Intermediate Pandas : Plotting with Pandas, Matplotlib and Seaborn\n",
    "#### A short workshop run by the Library Bioinformatics Service\n",
    "\n",
    "# tinyurl.com/wcmpandas05\n",
    "\n",
    "Based on the Data Carpentry curriculum for [Data Visualization in Python](http://www.datacarpentry.org/python-ecology-lesson/)\n",
    "( © Data Carpentry under [Creative Commons Attribution\n",
    "license](https://creativecommons.org/licenses/by/4.0/) )\n",
    "\n",
    "---\n",
    "\n",
    "### Our Data\n",
    "\n",
    "We will be using the publically available data on [emergency department visits for asthma](https://data.chhs.ca.gov/dataset/asthma-ed-visit-rates-lghc-indicator-07) in California, from the [California Health and Human Services Open Data Portal](https://data.chhs.ca.gov/)\n",
    "\n",
    "\n",
    "The downloaded filename is `asthma-ed-visit-rates-lghc-indicator-07.csv`, but we have saved a version of the file here as `asthma.csv` (in the data directory).\n",
    "\n",
    "---\n",
    "First, we need to create a Pandas dataframe of our file:"
   ]
  },
  {
   "cell_type": "code",
   "execution_count": null,
   "metadata": {},
   "outputs": [],
   "source": [
    "import pandas as pd"
   ]
  },
  {
   "cell_type": "code",
   "execution_count": null,
   "metadata": {},
   "outputs": [],
   "source": [
    "df_asthma = pd.read_csv(\"data/asthma.csv\")"
   ]
  },
  {
   "cell_type": "code",
   "execution_count": null,
   "metadata": {},
   "outputs": [],
   "source": [
    "df_asthma.head()"
   ]
  },
  {
   "cell_type": "markdown",
   "metadata": {},
   "source": [
    "This is a rather complicated table, as it stacks a number of different demographic categories in the same column (`Strata`). We can appreciate this better by looking at all the unique values in some of our columns."
   ]
  },
  {
   "cell_type": "code",
   "execution_count": null,
   "metadata": {},
   "outputs": [],
   "source": [
    "df_asthma['Age Group'].unique()"
   ]
  },
  {
   "cell_type": "code",
   "execution_count": null,
   "metadata": {},
   "outputs": [],
   "source": [
    "df_asthma['Strata'].unique()"
   ]
  },
  {
   "cell_type": "code",
   "execution_count": null,
   "metadata": {},
   "outputs": [],
   "source": [
    "df_asthma['Strata Name'].unique()"
   ]
  },
  {
   "cell_type": "markdown",
   "metadata": {},
   "source": [
    "Thus, we will probably want to work with subsets of our dataframe for analysis and visualization. For this example, we will first create a subset that only includes the `All Ages` Strata group:"
   ]
  },
  {
   "cell_type": "code",
   "execution_count": null,
   "metadata": {},
   "outputs": [],
   "source": [
    "df_subset = df_asthma[df_asthma['Strata Name']=='All Ages']\n",
    "df_subset.head()"
   ]
  },
  {
   "cell_type": "code",
   "execution_count": null,
   "metadata": {},
   "outputs": [],
   "source": [
    "df_asthma.size"
   ]
  },
  {
   "cell_type": "code",
   "execution_count": null,
   "metadata": {},
   "outputs": [],
   "source": [
    "df_subset.size"
   ]
  },
  {
   "cell_type": "markdown",
   "metadata": {},
   "source": [
    "Second, we will create a pivot table, to arrange the ED visit rate by year and geographical location:"
   ]
  },
  {
   "cell_type": "code",
   "execution_count": null,
   "metadata": {},
   "outputs": [],
   "source": [
    "df_pivot = df_subset.pivot( values='Rate', \n",
    "                            columns='Year', \n",
    "                            index='Geography'\n",
    "                          )\n",
    "df_pivot.head(10)"
   ]
  },
  {
   "cell_type": "markdown",
   "metadata": {},
   "source": [
    "Here is a useful post about reshaping data in pandas (pivot tables, stacking and unstacking columns): http://nikgrozev.com/2015/07/01/reshaping-in-pandas-pivot-pivot-table-stack-and-unstack-explained-with-pictures/"
   ]
  },
  {
   "cell_type": "markdown",
   "metadata": {},
   "source": [
    "## Make a line plot of your data\n",
    "\n",
    "Matplotlib is a Python library that can be used to visualize data. The\n",
    "toolbox `matplotlib.pyplot` is a collection of functions that make matplotlib\n",
    "work like MATLAB. In most cases, this is all that you will need to use, but\n",
    "there are many other useful tools in matplotlib that you should explore.\n",
    "\n",
    "We will cover a few basic commands for formatting plots in this lesson. A great\n",
    "resource for help styling your figures is the matplotlib gallery\n",
    "(http://matplotlib.org/gallery.html), which includes plots in many different\n",
    "styles and the source code that creates them. The simplest of plots is the 2\n",
    "dimensional line plot. These examples walk through the basic commands for making\n",
    "line plots using pyplots."
   ]
  },
  {
   "cell_type": "markdown",
   "metadata": {},
   "source": [
    "### Using pyplot:\n",
    "\n",
    "First, import the pyplot toolbox:"
   ]
  },
  {
   "cell_type": "code",
   "execution_count": null,
   "metadata": {},
   "outputs": [],
   "source": [
    "import matplotlib.pyplot as plt"
   ]
  },
  {
   "cell_type": "markdown",
   "metadata": {},
   "source": [
    "By default, matplotlib will create the figure in a separate window. When using\n",
    "ipython notebooks, we can make figures appear in-line within the notebook by\n",
    "writing:"
   ]
  },
  {
   "cell_type": "code",
   "execution_count": null,
   "metadata": {},
   "outputs": [],
   "source": [
    "%matplotlib inline"
   ]
  },
  {
   "cell_type": "markdown",
   "metadata": {},
   "source": [
    "We can start by plotting the values of a list of numbers (matplotlib can handle\n",
    "many types of numeric data, including numpy arrays and pandas DataFrames - we\n",
    "are just using a list as an example!):"
   ]
  },
  {
   "cell_type": "code",
   "execution_count": null,
   "metadata": {},
   "outputs": [],
   "source": [
    "list_numbers = [1.5, 4, 2.2, 5.7]\n",
    "plt.plot(list_numbers)\n",
    "plt.show()"
   ]
  },
  {
   "cell_type": "markdown",
   "metadata": {},
   "source": [
    "The command `plt.show()` prompts Python to display the figure. Without it, it\n",
    "creates an object in memory but doesn't produce a visible plot. The ipython\n",
    "notebooks (if using `%matplotlib inline`) will automatically show you the figure\n",
    "even if you don't write `plt.show()`, but get in the habit of including this\n",
    "command!\n",
    "\n",
    "If you provide the `plot()` function with only one list of numbers, it assumes\n",
    "that it is a sequence of y-values and plots them against their index (the first\n",
    "value in the list is plotted at `x=0`, the second at `x=1`, etc). If the\n",
    "function `plot()` receives two lists, it assumes the first one is the x-values\n",
    "and the second the y-values. The line connecting the points will follow the list\n",
    "in order:"
   ]
  },
  {
   "cell_type": "code",
   "execution_count": null,
   "metadata": {},
   "outputs": [],
   "source": [
    "plt.plot([6.8, 4.3, 3.2, 8.1], list_numbers)\n",
    "plt.show()"
   ]
  },
  {
   "cell_type": "markdown",
   "metadata": {},
   "source": [
    "A third, optional argument in `plot()` is a string of characters that indicates\n",
    "the line type and color for the plot. The default value is a continuous blue\n",
    "line. For example, we can make the line red (`'r'`), with circles at every data\n",
    "point (`'o'`), and a dot-dash pattern (`'-.'`). Look through the matplotlib\n",
    "gallery for more examples."
   ]
  },
  {
   "cell_type": "code",
   "execution_count": null,
   "metadata": {},
   "outputs": [],
   "source": [
    "plt.plot([6.8, 4.3, 3.2, 8.1], list_numbers, 'ro-.')\n",
    "plt.axis([0,10,0,6])\n",
    "plt.show()"
   ]
  },
  {
   "cell_type": "markdown",
   "metadata": {},
   "source": [
    "The command `plt.axis()` sets the limits of the axes from a list of `[xmin,\n",
    "xmax, ymin, ymax]` values (the square brackets are needed because the argument\n",
    "for the function `axis()` is one list of values, not four separate numbers!).\n",
    "\n",
    "The functions `xlabel()` and `ylabel()` will label the axes, and `title()` will\n",
    "write a title above the figure.\n",
    "\n",
    "A single figure can include multiple lines, and they can be plotted using the\n",
    "same `plt.plot()` command by adding more pairs of x values and y values (and\n",
    "optionally line styles):"
   ]
  },
  {
   "cell_type": "code",
   "execution_count": null,
   "metadata": {},
   "outputs": [],
   "source": [
    "import numpy as np\n",
    "\n",
    "# Create a numpy array between 0 and 10, with values evenly spaced every 0.5\n",
    "t = np.arange(0., 10., 0.5)\n",
    "\n",
    "# Red dashes with no symbols, blue squares with a solid line, and green triangles with a dotted line\n",
    "plt.plot(t, t, 'r--', t, t**2, 'bs-', t, t**3, 'g^:')\n",
    "\n",
    "plt.xlabel('This is the x axis')\n",
    "plt.ylabel('This is the y axis')\n",
    "plt.title('This is the figure title')\n",
    "\n",
    "plt.show()\n"
   ]
  },
  {
   "cell_type": "markdown",
   "metadata": {},
   "source": [
    "We can include a legend by adding the optional keyword argument `label=''` in\n",
    "`plot()`. Caution: We cannot add labels to multiple lines that are plotted\n",
    "simultaneously by the `plt.plot()` command like we did above because Python\n",
    "won't know to which line to assign the value of the argument label. Multiple\n",
    "lines can also be plotted in the same figure by calling the `plot()` function\n",
    "several times:"
   ]
  },
  {
   "cell_type": "code",
   "execution_count": null,
   "metadata": {},
   "outputs": [],
   "source": [
    "# Red dashes with no symbols, blue squares with a solid line, and green triangles with a dotted line\n",
    "plt.plot(t, t, 'r--', label='linear')\n",
    "plt.plot(t, t**2, 'bs-', label='square')\n",
    "plt.plot(t, t**3, 'g^:', label='cubic')\n",
    "\n",
    "plt.legend(loc='upper left', shadow=True, fontsize='x-large')\n",
    "\n",
    "plt.xlabel('This is the x axis')\n",
    "plt.ylabel('This is the y axis')\n",
    "plt.title('This is the figure title')\n",
    "\n",
    "plt.show()"
   ]
  },
  {
   "cell_type": "markdown",
   "metadata": {},
   "source": [
    "The function `legend()` adds a legend to the figure, and the optional keyword\n",
    "arguments change its style. By default [typing just `plt.legend()`], the legend\n",
    "is on the upper right corner and has no shadow.\n",
    "\n",
    " The functions `xlabel`, `ylabel`, `title`, `legend`, and many others create text labels. It is good to know that, in addition to the plain text, you may use mathematical notation using a subset of LaTeX language. See [this link](https://matplotlib.org/users/mathtext.html) for more information.\n",
    "\n",
    "\n",
    "Like MATLAB, pyplot is stateful; it keeps track of the current figure and\n",
    "plotting area, and any plotting functions are directed to those axes. To make\n",
    "more than one figure, we use the command `plt.figure()` with an increasing\n",
    "figure number inside the parentheses:"
   ]
  },
  {
   "cell_type": "code",
   "execution_count": null,
   "metadata": {},
   "outputs": [],
   "source": [
    "# This is the first figure\n",
    "plt.figure(1)\n",
    "plt.plot(t, t, 'r--', label='linear')\n",
    "\n",
    "plt.legend(loc='upper left', shadow=True, fontsize='x-large')\n",
    "plt.title('This is figure 1')\n",
    "\n",
    "plt.show()\n",
    "\n",
    "# This is a second figure\n",
    "plt.figure(2)\n",
    "plt.plot(t, t**2, 'bs-', label='square')\n",
    "\n",
    "plt.legend(loc='upper left', shadow=True, fontsize='x-large')\n",
    "plt.title('This is figure 2')\n",
    "\n",
    "plt.show()"
   ]
  },
  {
   "cell_type": "markdown",
   "metadata": {},
   "source": [
    "A single figure can also include multiple plots in a grid pattern. \n",
    "\n",
    "When you look at your graph (eg above), it is important to realize Matplotlib does not consider the graph to be the figure. The figure is the part around your graph. Your chart sits on top of the figure. So what’s your visualization?\n",
    "\n",
    "Your graph is what’s called a subplot or axis. Or, technically, an AxesSubplot.\n",
    "\n",
    "When we think about axes, we usually think about them as the lines on the left and right of our graphs. When plotting in python using Pandas/Matplotlib, you must not think in this way or you’re going to get confused! In this case, an axis - or an ax, as it is typically called - is an entire graph.\n",
    "\n",
    "So, in the following example, we will create a figure, then add subplots to this single figure. The \n",
    "`add_subplot()` command specifies the number of rows, the number of columns, and\n",
    "the number of the space in the grid that particular subplot is occupying:"
   ]
  },
  {
   "cell_type": "code",
   "execution_count": null,
   "metadata": {},
   "outputs": [],
   "source": [
    "fig = plt.figure()\n",
    "\n",
    "fig.add_subplot(2,2,1)  # Two row, two columns, position 1\n",
    "plt.plot(t, t, 'r--', label='linear')\n",
    "\n",
    "fig.add_subplot(2,2,2)  # Two row, two columns, position 2\n",
    "plt.plot(t, t**2, 'bs-', label='square')\n",
    "\n",
    "fig.add_subplot(2,2,3)  # Two row, two columns, position 3\n",
    "plt.plot(t, t**3, 'g^:', label='cubic')\n",
    "\n",
    "plt.show()"
   ]
  },
  {
   "cell_type": "markdown",
   "metadata": {},
   "source": [
    "## Make other types of plots:\n",
    "\n",
    "Matplotlib can make many other types of plots in much the same way that it makes\n",
    "2 dimensional line plots. Look through the examples in\n",
    "http://matplotlib.org/users/screenshots.html and try a few of them (click on the\n",
    "\"Source code\" link and copy and paste into a new cell in ipython notebook or\n",
    "save as a text file with a `.py` extension and run in the command line)."
   ]
  },
  {
   "cell_type": "markdown",
   "metadata": {},
   "source": [
    "> ## Challenge - Final Plot\n",
    "> Display your data using one or more plot types from the example gallery. Which\n",
    "> ones to choose will depend on the content of your own data file. If you are\n",
    "> using the streamgage file, you could make a histogram of the number of days with\n",
    "> a given mean discharge, use bar plots to display daily discharge statistics, or\n",
    "> explore the different ways matplotlib can handle dates and times for figures."
   ]
  },
  {
   "cell_type": "markdown",
   "metadata": {},
   "source": [
    "## Exporting/saving a figure\n",
    "If you have a figure that you would like to save externally from the notebook, this can be achieved using the plt.savefig() command. At its most basic, call this function after producing your figure, but before calling plt.show(). In the parentheses, enter the full filename and extension you would like to save the image to. Matplotlib will look at the extension, and then save the image as the appropriate filetype. It can handle .png, .jpg, and .pdf, among others. Note that you will not get a warning if the file already exists - it will just overwrite the existing file with the new one, so make sure you check first! (or write some code to check...)"
   ]
  },
  {
   "cell_type": "code",
   "execution_count": null,
   "metadata": {},
   "outputs": [],
   "source": [
    "import os\n",
    "\n",
    "myfilename = \"myfile.png\"  # change this to whatever you want the file to be called. Include any directories in the name too (eg. \"results/myimage.jpg\")\n",
    "\n",
    "if os.path.exists(myfilename):\n",
    "    print(\"File already exists!\")\n",
    "else:\n",
    "    plt.savefig(myfilename)"
   ]
  },
  {
   "cell_type": "markdown",
   "metadata": {},
   "source": [
    "---\n",
    "# Plotting in Pandas"
   ]
  },
  {
   "cell_type": "markdown",
   "metadata": {},
   "source": [
    "The official Pandas [plotting documentation](https://pandas.pydata.org/pandas-docs/stable/visualization.html) helps show the extent of the types of plots and basic presentation options available.\n",
    "\n",
    "The exercises here are based on the [notes](http://jonathansoma.com/lede/algorithms-2017/) by Jonathan Soma, for the _Algorithms_ course for the Lede Program at Columbia University Graduate School of Journalism.\n",
    "\n",
    "First, let's refresh ourselves on what our dataframe looks like:\n"
   ]
  },
  {
   "cell_type": "code",
   "execution_count": null,
   "metadata": {},
   "outputs": [],
   "source": [
    "df_asthma.head()"
   ]
  },
  {
   "cell_type": "markdown",
   "metadata": {},
   "source": [
    "### .plot()\n",
    "When used without any parameters, `df.plot()` plots the index against every column, adding every numerical column:"
   ]
  },
  {
   "cell_type": "code",
   "execution_count": null,
   "metadata": {},
   "outputs": [],
   "source": [
    "df_asthma.plot()\n",
    "plt.show()"
   ]
  },
  {
   "cell_type": "markdown",
   "metadata": {},
   "source": [
    "As you can see, this is not a particularly useful plot in our case! It has plotted irrelevant data (LGHC Indicator ID), plotted all columns on the same scale, and the x-axis places all values sequentially as they appear in the table (including the year!).\n",
    "\n",
    "In many cases (including ours), the index will not provide any meaningful relation to the data contained in that row. A meaningful index is most likely to exist in the following two cases:\n",
    "\n",
    "* The dataframe was produced using `.value_counts()` or `.groupby()`\n",
    "* You’ve used `.set_index()`, probably with dates\n",
    "\n",
    "So except in the above cases, we will usually want to specify one column as the independent variable for the x-axis, and a second variable as the dependent variable for the y-axis. To do this, we specify these variables using the `x` and `y` parameters. "
   ]
  },
  {
   "cell_type": "code",
   "execution_count": null,
   "metadata": {},
   "outputs": [],
   "source": [
    "df_asthma.plot(x='Year', y='Rate')\n",
    "plt.axis([2010,2017,0,1000])\n",
    "plt.show()"
   ]
  },
  {
   "cell_type": "markdown",
   "metadata": {},
   "source": [
    "When pandas plots, it assumes every single data point should be connected. Naturally, a line graph is a poor choice to represent this kind of data. We can specify the type of chart to generate using the `kind` parameter. "
   ]
  },
  {
   "cell_type": "code",
   "execution_count": null,
   "metadata": {},
   "outputs": [],
   "source": [
    "df_asthma.plot(x='Year', y='Rate', kind='scatter')\n",
    "plt.axis([2010,2017,0,1000])\n",
    "plt.show()"
   ]
  },
  {
   "cell_type": "markdown",
   "metadata": {},
   "source": [
    "This is better, but with a high density of points, a box plot would be a more helpful choice:"
   ]
  },
  {
   "cell_type": "code",
   "execution_count": null,
   "metadata": {},
   "outputs": [],
   "source": [
    "df_asthma.plot(x='Year', y='Rate', kind='box')\n",
    "plt.show()"
   ]
  },
  {
   "cell_type": "markdown",
   "metadata": {},
   "source": [
    "This didn't work in this case, because the boxplot function works by drawing a single box for each column specified in the dataframe. In order to create the expected plot, we therefore have to use the pivoted table we created at the beginning:"
   ]
  },
  {
   "cell_type": "code",
   "execution_count": null,
   "metadata": {},
   "outputs": [],
   "source": [
    "df_pivot.head()"
   ]
  },
  {
   "cell_type": "code",
   "execution_count": null,
   "metadata": {},
   "outputs": [],
   "source": [
    "df_pivot.plot(kind='box')\n",
    "plt.show()"
   ]
  },
  {
   "cell_type": "markdown",
   "metadata": {},
   "source": [
    "You can then modify the style of the graph by supplying a (very large) number of possible parameters:"
   ]
  },
  {
   "cell_type": "code",
   "execution_count": null,
   "metadata": {},
   "outputs": [],
   "source": [
    "df_pivot.plot(kind='box',  \n",
    "              color=dict(boxes='#BDA493', whiskers='g', medians='red', caps='red'),\n",
    "              boxprops=dict(linestyle='-',linewidth=2.0, ),\n",
    "              whiskerprops=dict(linestyle='-.',linewidth=1.0,)\n",
    "             )\n",
    "plt.show()"
   ]
  },
  {
   "cell_type": "markdown",
   "metadata": {},
   "source": [
    "This graph is more more ugly than the default, but you can see how the values can be set for each of the different elements using a dictionary of values. If you want to set the same value for all elements, you can just specify that value once: `color=\"green\"`. \n",
    "\n",
    "Colors can be specified by **single letters**:\n",
    "* k - black\n",
    "* w - white\n",
    "* c - cyan\n",
    "* m - magenta\n",
    "* b - blue\n",
    "* r - red\n",
    "* y - yellow\n",
    "\n",
    "or by **html color codes** ('red', 'orange', 'steelblue', etc)\n",
    "\n",
    "or by **hex color codes** (#BDA493, #63C638, etc -  A very handy color picker can be found [here](https://htmlcolorcodes.com))\n",
    "\n",
    "> ## Challenge\n",
    "> Have a go at making a chart that is actually pleasant to look at!"
   ]
  },
  {
   "cell_type": "markdown",
   "metadata": {},
   "source": [
    "### Multiple plots on one figure?"
   ]
  },
  {
   "cell_type": "markdown",
   "metadata": {},
   "source": [
    "We can also use Matplotlib's ability to plot multiple graphs onto a single figure. Using the same construction as in the first section, we can assign subplots (using the `add_subplot()` command) to an axis.\n",
    "\n",
    "When we pass ax=ax to our plot, we’re saying “hey, we already have a graph made up! Please just use it instead” and then pandas/matplotlib does, instead of using a brand-new image for each.\n",
    "\n",
    "So what’s the difference between a figure and an axis/subplot? Figures are made up of subplots. Figures are the table that the dinner plates of subplots go on. So far we’ve only seen them made up of just one, but we can do more!\n"
   ]
  },
  {
   "cell_type": "markdown",
   "metadata": {},
   "source": [
    "Let’s create a 2x1 grid and put something in the first subplot and something in the second subplot. In the example below, you will see we also use the shortcut `2,1,1` and `2,1,2` in the `add_subplot` function. Remember this is the same as saying `nrows=2, ncols=1, index=1`. You can be even more terse and enter it as a three-digit number: `211`"
   ]
  },
  {
   "cell_type": "code",
   "execution_count": null,
   "metadata": {},
   "outputs": [],
   "source": [
    "fig = plt.figure()\n",
    "ax1 = fig.add_subplot(2,1,1)\n",
    "df_pivot.plot(kind='box', ax=ax1)\n",
    "\n",
    "ax2 = fig.add_subplot(2,1,2)\n",
    "df_pivot.plot(ax=ax2, legend=None)\n",
    "\n",
    "plt.show()"
   ]
  },
  {
   "cell_type": "markdown",
   "metadata": {},
   "source": [
    "> ## Challenge question\n",
    "> Try creating a 2x2 grid, and placing the graphs in the top left and bottom right positions"
   ]
  },
  {
   "cell_type": "code",
   "execution_count": null,
   "metadata": {},
   "outputs": [],
   "source": [
    "# place your answer here:\n"
   ]
  },
  {
   "cell_type": "markdown",
   "metadata": {},
   "source": [
    "If you want a graph to occupy multiple positions on your figure, you will need to expand the index parameter to indicate the top left and bottom right positions. We will also increase the figure size, since our graphs are starting to get quite small:"
   ]
  },
  {
   "cell_type": "code",
   "execution_count": null,
   "metadata": {},
   "outputs": [],
   "source": [
    "fig = plt.figure(figsize=(10,6))  # figsize is a tuple indicating width x height (in inches)\n",
    "ax1 = fig.add_subplot(3,3,(2,6))\n",
    "df_pivot.plot(kind='box', ax=ax1)\n",
    "\n",
    "ax2 = fig.add_subplot(3,3,(7,9))\n",
    "df_pivot.plot(ax=ax2, legend=None)\n",
    "\n",
    "plt.show()"
   ]
  },
  {
   "cell_type": "markdown",
   "metadata": {},
   "source": [
    "---\n",
    "# Seaborn\n",
    "\n",
    "Seaborn improves on the default styling and the ease of use compared with Matplotlib. The main thing to note here, is that seaborn is not natively integrated with Pandas, so you can't get its functionality just using the .plot() function. Instead, you will need to import Seaborn separately, then feed it your Pandas dataframe. As you will soon see, this small extra step is worth the trouble.\n",
    "\n",
    "The Seaborn website has a lovely [gallery](https://seaborn.pydata.org/examples/index.html) of plots, to show you the scope of what it can do. The documentation for each plot type can be found [here](https://seaborn.pydata.org/api.html). "
   ]
  },
  {
   "cell_type": "code",
   "execution_count": null,
   "metadata": {},
   "outputs": [],
   "source": [
    "import seaborn as sns"
   ]
  },
  {
   "cell_type": "code",
   "execution_count": null,
   "metadata": {},
   "outputs": [],
   "source": [
    "ax = sns.boxplot(data=df_pivot)"
   ]
  },
  {
   "cell_type": "markdown",
   "metadata": {},
   "source": [
    "Seaborn is a little smarter when it comes to dividing data in a column out into multiple categories. We can therefore produce the above graph without having to first generate the pivot table:"
   ]
  },
  {
   "cell_type": "code",
   "execution_count": null,
   "metadata": {},
   "outputs": [],
   "source": [
    "ax = sns.boxplot(data=df_subset,\n",
    "                 x='Year', y=\"Rate\"\n",
    "                )"
   ]
  },
  {
   "cell_type": "markdown",
   "metadata": {},
   "source": [
    "It is also possible to further break down a seaborn boxplot using the 'hue' parameter (to demonstrate this, we'll create another subset that is the total population strata, which includes three different age group breakdowns):"
   ]
  },
  {
   "cell_type": "code",
   "execution_count": null,
   "metadata": {},
   "outputs": [],
   "source": [
    "df_subset2 = df_asthma[df_asthma['Strata']=='Total Population']\n",
    "ax = sns.boxplot(data=df_subset2,\n",
    "                 x='Year', y='Rate', hue='Age Group',\n",
    "                )"
   ]
  },
  {
   "cell_type": "markdown",
   "metadata": {},
   "source": [
    "And by mapping onto a pre-existing figure as in the previous section, we can also set the size to be more appropriate:"
   ]
  },
  {
   "cell_type": "code",
   "execution_count": null,
   "metadata": {},
   "outputs": [],
   "source": [
    "fig, ax = fig, ax = plt.subplots(figsize=(13,4))\n",
    "ax = sns.boxplot(data=df_subset2,\n",
    "                 x='Year', y='Rate', hue='Age Group',\n",
    "                 ax=ax,\n",
    "                )"
   ]
  },
  {
   "cell_type": "markdown",
   "metadata": {},
   "source": [
    "Getting better. To really get a feel for the underlying data, Seaborn can generate violin plots:"
   ]
  },
  {
   "cell_type": "code",
   "execution_count": null,
   "metadata": {},
   "outputs": [],
   "source": [
    "fig, ax = fig, ax = plt.subplots(figsize=(13,4))\n",
    "ax = sns.violinplot(data=df_subset2,\n",
    "                     x='Year', y='Rate', hue='Age Group',\n",
    "                     ax=ax,\n",
    "                    )"
   ]
  },
  {
   "cell_type": "markdown",
   "metadata": {},
   "source": [
    "It is also easy to produce nice looking histograms:"
   ]
  },
  {
   "cell_type": "code",
   "execution_count": null,
   "metadata": {},
   "outputs": [],
   "source": [
    "sns.distplot(a=df_subset['Rate'].dropna())\n",
    "plt.show()"
   ]
  },
  {
   "cell_type": "markdown",
   "metadata": {},
   "source": [
    "Or if you wanted a scatterplot (we will need another subset of our data for a useful scatterplot):"
   ]
  },
  {
   "cell_type": "code",
   "execution_count": null,
   "metadata": {},
   "outputs": [],
   "source": [
    "# create a new pivot table showing the rates per county according to age group:\n",
    "df_pivot2 = df_subset2[df_subset2['Year']==2012].pivot(index='Geography', values='Rate', columns='Strata Name')\n",
    "\n",
    "# view the first 5 rows:\n",
    "df_pivot2.head()\n"
   ]
  },
  {
   "cell_type": "code",
   "execution_count": null,
   "metadata": {},
   "outputs": [],
   "source": [
    "sns.lmplot(data=df_pivot2,\n",
    "           x='18 and Over', y='Under 18', \n",
    "          )\n",
    "plt.show()"
   ]
  },
  {
   "cell_type": "markdown",
   "metadata": {},
   "source": [
    "Now for a particularly complex version, we will add the data for 2013 and 2014:"
   ]
  },
  {
   "cell_type": "code",
   "execution_count": null,
   "metadata": {},
   "outputs": [],
   "source": [
    "# create a new pivot table showing the rates per county according to age group:\n",
    "df_pivot3 = df_subset2[df_subset2['Year']==2013].pivot(index='Geography', values='Rate', columns='Strata Name')\n",
    "df_pivot4 = df_subset2[df_subset2['Year']==2014].pivot(index='Geography', values='Rate', columns='Strata Name')\n",
    "\n",
    "# add a column with the year:\n",
    "df_pivot2['Year']=2012\n",
    "df_pivot3['Year']=2013\n",
    "df_pivot4['Year']=2014\n",
    "\n",
    "# stack the tables vertically\n",
    "df_concat = pd.concat([df_pivot2, df_pivot3, df_pivot4], axis=0)\n",
    "\n",
    "# view first 5 rows:\n",
    "df_concat.head()\n"
   ]
  },
  {
   "cell_type": "code",
   "execution_count": null,
   "metadata": {},
   "outputs": [],
   "source": [
    "sns.lmplot(data=df_concat,\n",
    "           x='18 and Over', y='Under 18', \n",
    "           hue='Year',                 # we want to display each year separately\n",
    "           markers=['x', '+', '*'],    # change how each year's marker is displayed\n",
    "           ci=68,                      # change the confidence interval for the shading \n",
    "           fit_reg=True,               # change to False if you want to remove the regression\n",
    "           col='Year',                 # split the graph into subgraphs (can also use 'row')\n",
    "          )\n",
    "plt.show()"
   ]
  },
  {
   "cell_type": "markdown",
   "metadata": {},
   "source": [
    "> # Challenge graph\n",
    "> Can you create a graph that shows the ED admission rate for each county, plotting under 18 against 18 and over, displaying separately each sex?"
   ]
  },
  {
   "cell_type": "markdown",
   "metadata": {},
   "source": [
    "And if you also wanted the distribution of each variable plotted:"
   ]
  },
  {
   "cell_type": "code",
   "execution_count": null,
   "metadata": {},
   "outputs": [],
   "source": [
    "sns.jointplot(data=df_pivot2, x='18 and Over', y='Under 18')\n",
    "plt.show()"
   ]
  },
  {
   "cell_type": "code",
   "execution_count": null,
   "metadata": {},
   "outputs": [],
   "source": []
  }
 ],
 "metadata": {
  "kernelspec": {
   "display_name": "Python 3",
   "language": "python",
   "name": "python3"
  },
  "language_info": {
   "codemirror_mode": {
    "name": "ipython",
    "version": 3
   },
   "file_extension": ".py",
   "mimetype": "text/x-python",
   "name": "python",
   "nbconvert_exporter": "python",
   "pygments_lexer": "ipython3",
   "version": "3.6.2"
  }
 },
 "nbformat": 4,
 "nbformat_minor": 2
}
