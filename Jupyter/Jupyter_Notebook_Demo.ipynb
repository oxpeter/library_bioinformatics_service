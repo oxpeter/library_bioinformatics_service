{
 "cells": [
  {
   "cell_type": "markdown",
   "metadata": {},
   "source": [
    "# Library Bioinformatics Service \n",
    "## Jupyter Notebook Tutorial\n",
    "This tutorial was built in a Jupyter notebook!\n",
    "Various formats of this tutorial can be accessed at [https://github.com/oxpeter/library_bioinformatics_service/tree/master/Jupyter](https://github.com/oxpeter/library_bioinformatics_service/tree/master/Jupyter)\n",
    "\n",
    "``` Created by Peter Oxley for the library bioinformatics service, May 2017```\n",
    "\n",
    "Installation of Jupyter notebooks is recommended via [Anaconda](https://www.continuum.io/downloads)"
   ]
  },
  {
   "cell_type": "code",
   "execution_count": 1,
   "metadata": {
    "collapsed": true,
    "nbpresent": {
     "id": "0f44c0a3-0e10-4004-bfb8-b91c731a60f0"
    }
   },
   "outputs": [],
   "source": [
    "# this is a code cell with no output\n",
    "a=120"
   ]
  },
  {
   "cell_type": "code",
   "execution_count": 2,
   "metadata": {
    "nbpresent": {
     "id": "f9509270-3cd7-46fc-a1ba-5b2fb670c852"
    }
   },
   "outputs": [
    {
     "name": "stdout",
     "output_type": "stream",
     "text": [
      "120\n"
     ]
    }
   ],
   "source": [
    "# this is a code cell with output\n",
    "# all output to stdout / stderr will be displayed below the cell.\n",
    "print(a)"
   ]
  },
  {
   "cell_type": "markdown",
   "metadata": {
    "nbpresent": {
     "id": "f0611c52-4edb-4922-8767-361e4b8cec66"
    }
   },
   "source": [
    "# This is a text cell\n",
    "It is formatted using __markdown syntax__. \n",
    "\n",
    "(_to edit a markdown cell, just double click on the text. Don't forget to 'execute' the cell afterwards to implement the formatting_)\n",
    "\n",
    "Markdown cells within a notebook have a number of advantages:\n",
    "1. Easy to type\n",
    "2. Easy to read\n",
    "3. Great for discussion of code:\n",
    "  * Choice of analysis\n",
    "  * Choice of parameters\n",
    "  * Implications of results\n",
    "  * Introduction/methods/conclusions/references...\n",
    "\n",
    "Cells are switched between code and markdown by using the menu\n",
    "\n",
    "```Cell > Cell Type > Markdown```\n",
    "\n",
    "Or by using the  dropdown box in the icon bar.\n",
    "\n",
    "[You can even create links!](www.library.med.cornell.edu)\n",
    "\n"
   ]
  },
  {
   "cell_type": "code",
   "execution_count": 3,
   "metadata": {
    "collapsed": true,
    "nbpresent": {
     "id": "86c2e7d7-19d6-4373-8ccb-58f4cde2a75a"
    }
   },
   "outputs": [],
   "source": [
    "import numpy as np\n",
    "import pandas as pd\n",
    "# notice that this cell doesn't execute when you press enter. \n",
    "# Only by pressing shift-enter or alt-enter, or clicking on the 'run' icon."
   ]
  },
  {
   "cell_type": "code",
   "execution_count": 4,
   "metadata": {
    "nbpresent": {
     "id": "970d79a6-e00c-402e-bbdc-591e9833d4d8"
    }
   },
   "outputs": [],
   "source": [
    "# this cell does not generate any output to stdout or stderr,\n",
    "# so nothing is shown after executing the cell.\n",
    "s1 = np.random.normal(0,1,1000)  # generate a random sample with normal distribution (mean 0, sd 1, 1000 samples)\n",
    "s2 = np.random.normal(2,4,1000)\n",
    "df = pd.DataFrame({\"s1\":s1, \"s2\":s2})"
   ]
  },
  {
   "cell_type": "code",
   "execution_count": 5,
   "metadata": {
    "nbpresent": {
     "id": "2500c149-5c40-41cc-b6a0-4f51719e1a5b"
    }
   },
   "outputs": [
    {
     "name": "stdout",
     "output_type": "stream",
     "text": [
      "<class 'pandas.core.frame.DataFrame'>\n",
      "RangeIndex: 1000 entries, 0 to 999\n",
      "Data columns (total 2 columns):\n",
      "s1    1000 non-null float64\n",
      "s2    1000 non-null float64\n",
      "dtypes: float64(2)\n",
      "memory usage: 15.7 KB\n"
     ]
    }
   ],
   "source": [
    "# this cell outputs to stdout, \n",
    "# which is printed immediately following the cell:\n",
    "df.info()"
   ]
  },
  {
   "cell_type": "code",
   "execution_count": 6,
   "metadata": {
    "nbpresent": {
     "id": "4f0751e0-013e-47a5-9440-a139c3660987"
    }
   },
   "outputs": [
    {
     "data": {
      "text/html": [
       "<div>\n",
       "<table border=\"1\" class=\"dataframe\">\n",
       "  <thead>\n",
       "    <tr style=\"text-align: right;\">\n",
       "      <th></th>\n",
       "      <th>0</th>\n",
       "      <th>1</th>\n",
       "      <th>2</th>\n",
       "      <th>3</th>\n",
       "      <th>4</th>\n",
       "      <th>5</th>\n",
       "      <th>6</th>\n",
       "      <th>7</th>\n",
       "      <th>8</th>\n",
       "      <th>9</th>\n",
       "      <th>...</th>\n",
       "      <th>990</th>\n",
       "      <th>991</th>\n",
       "      <th>992</th>\n",
       "      <th>993</th>\n",
       "      <th>994</th>\n",
       "      <th>995</th>\n",
       "      <th>996</th>\n",
       "      <th>997</th>\n",
       "      <th>998</th>\n",
       "      <th>999</th>\n",
       "    </tr>\n",
       "  </thead>\n",
       "  <tbody>\n",
       "    <tr>\n",
       "      <th>s1</th>\n",
       "      <td>0.255287</td>\n",
       "      <td>2.137748</td>\n",
       "      <td>2.840305</td>\n",
       "      <td>0.435784</td>\n",
       "      <td>-0.507710</td>\n",
       "      <td>1.798250</td>\n",
       "      <td>0.376911</td>\n",
       "      <td>-0.350825</td>\n",
       "      <td>1.154573</td>\n",
       "      <td>-0.483646</td>\n",
       "      <td>...</td>\n",
       "      <td>-1.166325</td>\n",
       "      <td>-0.677468</td>\n",
       "      <td>0.868495</td>\n",
       "      <td>-1.701220</td>\n",
       "      <td>0.512454</td>\n",
       "      <td>0.274224</td>\n",
       "      <td>1.088739</td>\n",
       "      <td>1.546190</td>\n",
       "      <td>-0.732312</td>\n",
       "      <td>-0.944138</td>\n",
       "    </tr>\n",
       "    <tr>\n",
       "      <th>s2</th>\n",
       "      <td>0.054413</td>\n",
       "      <td>-0.065666</td>\n",
       "      <td>3.303618</td>\n",
       "      <td>6.183067</td>\n",
       "      <td>7.700526</td>\n",
       "      <td>9.164256</td>\n",
       "      <td>-1.332347</td>\n",
       "      <td>2.294891</td>\n",
       "      <td>-3.227784</td>\n",
       "      <td>4.790150</td>\n",
       "      <td>...</td>\n",
       "      <td>2.076782</td>\n",
       "      <td>4.240831</td>\n",
       "      <td>8.810881</td>\n",
       "      <td>0.198935</td>\n",
       "      <td>6.596999</td>\n",
       "      <td>4.334405</td>\n",
       "      <td>-0.724852</td>\n",
       "      <td>-0.378433</td>\n",
       "      <td>-2.635763</td>\n",
       "      <td>7.751945</td>\n",
       "    </tr>\n",
       "  </tbody>\n",
       "</table>\n",
       "<p>2 rows × 1000 columns</p>\n",
       "</div>"
      ],
      "text/plain": [
       "         0         1         2         3         4         5         6    \\\n",
       "s1  0.255287  2.137748  2.840305  0.435784 -0.507710  1.798250  0.376911   \n",
       "s2  0.054413 -0.065666  3.303618  6.183067  7.700526  9.164256 -1.332347   \n",
       "\n",
       "         7         8         9      ...          990       991       992  \\\n",
       "s1 -0.350825  1.154573 -0.483646    ...    -1.166325 -0.677468  0.868495   \n",
       "s2  2.294891 -3.227784  4.790150    ...     2.076782  4.240831  8.810881   \n",
       "\n",
       "         993       994       995       996       997       998       999  \n",
       "s1 -1.701220  0.512454  0.274224  1.088739  1.546190 -0.732312 -0.944138  \n",
       "s2  0.198935  6.596999  4.334405 -0.724852 -0.378433 -2.635763  7.751945  \n",
       "\n",
       "[2 rows x 1000 columns]"
      ]
     },
     "execution_count": 6,
     "metadata": {},
     "output_type": "execute_result"
    }
   ],
   "source": [
    "# table output is formatted to make it easy to view:\n",
    "df.T.head()"
   ]
  },
  {
   "cell_type": "markdown",
   "metadata": {},
   "source": [
    "### Running code in different languages\n",
    "The code in this notebook is executed by the designated \"kernel\" loaded at creation. In this case, the IPython kernel was loaded. All code entered will therefore be interpreted by this kernel and run as python code. However, when the kernel is IPython, you have access to \"cell magic\" (using the ```%``` syntax), where it is possible to have cells run by a different interpreter.\n",
    "\n",
    "* Using a single ```%``` will run the magic on that line only. \n",
    "* Starting a cell with ```%%``` will run the magic on the entire cell."
   ]
  },
  {
   "cell_type": "code",
   "execution_count": 7,
   "metadata": {
    "nbpresent": {
     "id": "88b4ddc5-919b-4fd5-82c2-4656c897ee08"
    }
   },
   "outputs": [
    {
     "name": "stdout",
     "output_type": "stream",
     "text": [
      "Hello, world\n"
     ]
    }
   ],
   "source": [
    "%%bash \n",
    "# this cell is run in a bash shell created specially for the following code.\n",
    "echo \"Hello, world\""
   ]
  },
  {
   "cell_type": "code",
   "execution_count": 8,
   "metadata": {},
   "outputs": [
    {
     "name": "stdout",
     "output_type": "stream",
     "text": [
      "-rw-r--r--   1 poxley  staff   12968 May  8 11:14 Jupyter demo handout.ipynb\r\n",
      "-rw-r--r--   1 poxley  staff   21257 May  8 12:44 Live Demo!.ipynb\r\n"
     ]
    }
   ],
   "source": [
    "# it is also possible to invoke bash commands using the ```!``` syntax:\n",
    "!ls -al | head -n 8 | tail -n 2"
   ]
  },
  {
   "cell_type": "code",
   "execution_count": 9,
   "metadata": {
    "nbpresent": {
     "id": "ef7e8f11-95f3-4cbb-870f-bb77350cace5"
    }
   },
   "outputs": [
    {
     "data": {
      "text/html": [
       "<body>\n",
       "<h2>This is an html interpreted header</h2>\n",
       "<a href=\"library.med.cornell.edu\">This is an html link</a>\n",
       "</body>"
      ],
      "text/plain": [
       "<IPython.core.display.HTML object>"
      ]
     },
     "metadata": {},
     "output_type": "display_data"
    }
   ],
   "source": [
    "%%html\n",
    "<body>\n",
    "<h2>This is an html interpreted header</h2>\n",
    "<a href=\"library.med.cornell.edu\">This is an html link</a>\n",
    "</body>"
   ]
  },
  {
   "cell_type": "markdown",
   "metadata": {},
   "source": [
    "### Sharing variables between languages\n",
    "It is even possible to capture the variables from each cell/interpreter/language, and pass them into others:"
   ]
  },
  {
   "cell_type": "code",
   "execution_count": 10,
   "metadata": {},
   "outputs": [
    {
     "data": {
      "text/plain": [
       "['total 848',\n",
       " 'drwxr-xr-x  16 poxley  staff     544 May  8 21:08 .',\n",
       " 'drwxr-xr-x   6 poxley  staff     204 May  5 13:10 ..',\n",
       " 'drwxr-xr-x  12 poxley  staff     408 May  8 12:18 .ipynb_checkpoints',\n",
       " '-rw-r--r--   1 poxley  staff   40217 May  7 20:41 First jupyterhub notebook!.ipynb',\n",
       " '-rw-r--r--   1 poxley  staff  121899 May  8 21:08 Jupyter Notebook Demo.ipynb',\n",
       " '-rw-r--r--   1 poxley  staff   12968 May  8 11:14 Jupyter demo handout.ipynb',\n",
       " '-rw-r--r--   1 poxley  staff   21257 May  8 12:44 Live Demo!.ipynb',\n",
       " '-rw-r--r--   1 poxley  staff    2074 May  7 23:11 Untitled.ipynb',\n",
       " '-rw-r--r--   1 poxley  staff      72 May  7 23:11 Untitled1.ipynb',\n",
       " '-rw-r--r--   1 poxley  staff   14768 May  7 23:22 Untitled2.ipynb',\n",
       " '-rw-r--r--   1 poxley  staff   11359 May  7 23:43 Untitled3.ipynb',\n",
       " '-rw-r--r--   1 poxley  staff      72 May  8 12:13 Untitled4.ipynb',\n",
       " '-rw-r--r--   1 poxley  staff   53248 May  5 15:06 jupyterhub.sqlite',\n",
       " '-rw-r--r--   1 poxley  staff    1530 May  5 15:04 jupyterhub_config.py',\n",
       " '-rw-------   1 poxley  staff    2733 May  5 14:05 jupyterhub_cookie_secret',\n",
       " '-rw-r--r--   1 poxley  staff  126788 May  8 20:27 rpy2_setup demo.ipynb']"
      ]
     },
     "execution_count": 10,
     "metadata": {},
     "output_type": "execute_result"
    }
   ],
   "source": [
    "# capturing the output of the bash ls command:\n",
    "directory_contents = !ls -la\n",
    "directory_contents"
   ]
  },
  {
   "cell_type": "code",
   "execution_count": 11,
   "metadata": {},
   "outputs": [
    {
     "name": "stdout",
     "output_type": "stream",
     "text": [
      "120\n"
     ]
    }
   ],
   "source": [
    "%%bash -s \"$a\"\n",
    "# The above line puts the variable a into the bash shell as a positional parameter.\n",
    "# Be aware of any characters (eg. quotation marks) in the python variable - \n",
    "# these will need to be escaped before being passed to the bash cell.\n",
    "echo $1"
   ]
  },
  {
   "cell_type": "code",
   "execution_count": 12,
   "metadata": {},
   "outputs": [
    {
     "name": "stdout",
     "output_type": "stream",
     "text": [
      "240\r\n"
     ]
    }
   ],
   "source": [
    "# an alternative to send variables into bash:\n",
    "!echo {a * 2}"
   ]
  },
  {
   "cell_type": "code",
   "execution_count": 13,
   "metadata": {
    "collapsed": true
   },
   "outputs": [],
   "source": [
    "# R requires a few extra steps to access\n",
    "# rpy2 provides access to R from within Python\n",
    "# (you can read more here: http://rpy2.readthedocs.io)\n",
    "# after installing rpy2 - we load the extension into the kernel:\n",
    "%load_ext rpy2.ipython\n",
    "\n",
    "# now we can access the installed version of R\n",
    "iris_dataset = %R iris"
   ]
  },
  {
   "cell_type": "code",
   "execution_count": 14,
   "metadata": {},
   "outputs": [
    {
     "data": {
      "text/html": [
       "<div>\n",
       "<table border=\"1\" class=\"dataframe\">\n",
       "  <thead>\n",
       "    <tr style=\"text-align: right;\">\n",
       "      <th></th>\n",
       "      <th>Sepal.Length</th>\n",
       "      <th>Sepal.Width</th>\n",
       "      <th>Petal.Length</th>\n",
       "      <th>Petal.Width</th>\n",
       "    </tr>\n",
       "  </thead>\n",
       "  <tbody>\n",
       "    <tr>\n",
       "      <th>count</th>\n",
       "      <td>150.000000</td>\n",
       "      <td>150.000000</td>\n",
       "      <td>150.000000</td>\n",
       "      <td>150.000000</td>\n",
       "    </tr>\n",
       "    <tr>\n",
       "      <th>mean</th>\n",
       "      <td>5.843333</td>\n",
       "      <td>3.057333</td>\n",
       "      <td>3.758000</td>\n",
       "      <td>1.199333</td>\n",
       "    </tr>\n",
       "    <tr>\n",
       "      <th>std</th>\n",
       "      <td>0.828066</td>\n",
       "      <td>0.435866</td>\n",
       "      <td>1.765298</td>\n",
       "      <td>0.762238</td>\n",
       "    </tr>\n",
       "    <tr>\n",
       "      <th>min</th>\n",
       "      <td>4.300000</td>\n",
       "      <td>2.000000</td>\n",
       "      <td>1.000000</td>\n",
       "      <td>0.100000</td>\n",
       "    </tr>\n",
       "    <tr>\n",
       "      <th>25%</th>\n",
       "      <td>5.100000</td>\n",
       "      <td>2.800000</td>\n",
       "      <td>1.600000</td>\n",
       "      <td>0.300000</td>\n",
       "    </tr>\n",
       "    <tr>\n",
       "      <th>50%</th>\n",
       "      <td>5.800000</td>\n",
       "      <td>3.000000</td>\n",
       "      <td>4.350000</td>\n",
       "      <td>1.300000</td>\n",
       "    </tr>\n",
       "    <tr>\n",
       "      <th>75%</th>\n",
       "      <td>6.400000</td>\n",
       "      <td>3.300000</td>\n",
       "      <td>5.100000</td>\n",
       "      <td>1.800000</td>\n",
       "    </tr>\n",
       "    <tr>\n",
       "      <th>max</th>\n",
       "      <td>7.900000</td>\n",
       "      <td>4.400000</td>\n",
       "      <td>6.900000</td>\n",
       "      <td>2.500000</td>\n",
       "    </tr>\n",
       "  </tbody>\n",
       "</table>\n",
       "</div>"
      ],
      "text/plain": [
       "       Sepal.Length  Sepal.Width  Petal.Length  Petal.Width\n",
       "count    150.000000   150.000000    150.000000   150.000000\n",
       "mean       5.843333     3.057333      3.758000     1.199333\n",
       "std        0.828066     0.435866      1.765298     0.762238\n",
       "min        4.300000     2.000000      1.000000     0.100000\n",
       "25%        5.100000     2.800000      1.600000     0.300000\n",
       "50%        5.800000     3.000000      4.350000     1.300000\n",
       "75%        6.400000     3.300000      5.100000     1.800000\n",
       "max        7.900000     4.400000      6.900000     2.500000"
      ]
     },
     "execution_count": 14,
     "metadata": {},
     "output_type": "execute_result"
    }
   ],
   "source": [
    "iris_dataset.describe()"
   ]
  },
  {
   "cell_type": "code",
   "execution_count": 15,
   "metadata": {},
   "outputs": [
    {
     "name": "stderr",
     "output_type": "stream",
     "text": [
      "/Users/poxley/anaconda/envs/rpy2_setup/lib/python3.5/site-packages/rpy2/rinterface/__init__.py:186: RRuntimeWarning: Loading required package: ggplot2\n",
      "\n",
      "  warnings.warn(x, RRuntimeWarning)\n"
     ]
    },
    {
     "data": {
      "image/png": "[encoded data removed]"
     },
     "metadata": {},
     "output_type": "display_data"
    }
   ],
   "source": [
    "%%R -i df\n",
    "# the above line sets R as the interpreter for this cell,\n",
    "# and imports the variable df (it will be referenced in this cell using the same name)\n",
    "\n",
    "# Now we can manipulate and graph the dataframe using R functions:\n",
    "require(ggplot2)\n",
    "ggplot(data=df) + geom_point(aes(x=s1, y=s2))"
   ]
  },
  {
   "cell_type": "markdown",
   "metadata": {},
   "source": [
    "### Other useful IPython cell magic\n",
    "IPython magics don't only let you use other language interpreters."
   ]
  },
  {
   "cell_type": "code",
   "execution_count": 16,
   "metadata": {
    "nbpresent": {
     "id": "ac8c203c-c90a-4941-ba31-ef70b971b55e"
    }
   },
   "outputs": [
    {
     "name": "stdout",
     "output_type": "stream",
     "text": [
      "[Errno 2] No such file or directory: 'jupyterhub/'\n",
      "/Users/poxley/Documents/7. Technology/Bioinformatics/workshops/jupyterhub\n"
     ]
    }
   ],
   "source": [
    "# change the current working directory\n",
    "%cd jupyterhub/"
   ]
  },
  {
   "cell_type": "code",
   "execution_count": 17,
   "metadata": {
    "nbpresent": {
     "id": "849f21ab-c840-4c5f-a287-95aa3b224cbf"
    }
   },
   "outputs": [
    {
     "name": "stdout",
     "output_type": "stream",
     "text": [
      "a\t df\t directory_contents\t iris_dataset\t np\t pd\t s1\t s2\t \n"
     ]
    }
   ],
   "source": [
    "# list the variables currently available to the kernel\n",
    "%who"
   ]
  },
  {
   "cell_type": "code",
   "execution_count": 18,
   "metadata": {
    "nbpresent": {
     "id": "0bb3b6e2-3dd7-4e7f-9add-0091f696d8f4"
    }
   },
   "outputs": [
    {
     "name": "stdout",
     "output_type": "stream",
     "text": [
      "Variable             Type         Data/Info\n",
      "-------------------------------------------\n",
      "a                    int          120\n",
      "df                   DataFrame               s1         s2\\<...>\\n[1000 rows x 2 columns]\n",
      "directory_contents   SList        ['total 848', 'drwxr-xr-x<...>7 rpy2_setup demo.ipynb']\n",
      "iris_dataset         DataFrame         Sepal.Length  Sepal.<...>n\\n[150 rows x 5 columns]\n",
      "np                   module       <module 'numpy' from '/Us<...>kages/numpy/__init__.py'>\n",
      "pd                   module       <module 'pandas' from '/U<...>ages/pandas/__init__.py'>\n",
      "s1                   ndarray      1000: 1000 elems, type `float64`, 8000 bytes\n",
      "s2                   ndarray      1000: 1000 elems, type `float64`, 8000 bytes\n"
     ]
    }
   ],
   "source": [
    "# list the variables and their string representation\n",
    "%whos"
   ]
  },
  {
   "cell_type": "code",
   "execution_count": 19,
   "metadata": {
    "nbpresent": {
     "id": "02dd2f36-9cfd-47f5-826b-3ef8d53e5880"
    }
   },
   "outputs": [
    {
     "name": "stdout",
     "output_type": "stream",
     "text": [
      "CPU times: user 232 ms, sys: 147 ms, total: 379 ms\n",
      "Wall time: 11.2 s\n"
     ]
    }
   ],
   "source": [
    "%%time\n",
    "for i in range(10):\n",
    "    !sleep 1"
   ]
  },
  {
   "cell_type": "code",
   "execution_count": 20,
   "metadata": {},
   "outputs": [
    {
     "name": "stdout",
     "output_type": "stream",
     "text": [
      "37.6 µs ± 336 ns per loop (mean ± std. dev. of 7 runs, 10000 loops each)\n"
     ]
    }
   ],
   "source": [
    "%%timeit\n",
    "np.random.normal(0,1,1000).sum()"
   ]
  },
  {
   "cell_type": "code",
   "execution_count": 21,
   "metadata": {
    "nbpresent": {
     "id": "ed8cf030-d539-4ec6-be93-cac25f55fb22"
    }
   },
   "outputs": [],
   "source": [
    "# to capture plot output and display it inline:\n",
    "%matplotlib inline\n",
    "\n",
    "import matplotlib.pyplot as plt\n",
    "import seaborn as sns"
   ]
  },
  {
   "cell_type": "code",
   "execution_count": 22,
   "metadata": {
    "nbpresent": {
     "id": "d5478148-e9f7-44e5-87a3-25ad1ac515b9"
    }
   },
   "outputs": [
    {
     "data": {
      "image/png": "[encoded data removed]",
      "text/plain": [
       "<matplotlib.figure.Figure at 0x111814b00>"
      ]
     },
     "metadata": {},
     "output_type": "display_data"
    }
   ],
   "source": [
    "df['s2'].hist();\n",
    "plt.show()"
   ]
  },
  {
   "cell_type": "code",
   "execution_count": 23,
   "metadata": {
    "collapsed": true
   },
   "outputs": [],
   "source": [
    "# using the question mark will bring up any help documentation\n",
    "?pd.DataFrame"
   ]
  },
  {
   "cell_type": "markdown",
   "metadata": {},
   "source": [
    "## Other functions of Jupyter notebooks\n",
    "#### Tab completion\n",
    "Works for variables, modules, functions, function parameters, and cell magics. \n",
    "\n",
    "#### Notebook extensions\n",
    "* __nbpresent__ from Anaconda will help you convert the notebook into interactive powerpoint-style presentations\n",
    "* __nbextensions__ provides access to a host of different extensions. Instructions for installing this extension can be found [here](http://blog.rtwilson.com/an-easy-way-to-install-jupyter-notebook-extensions/)\n",
    "\n",
    "#### MathJax and Latex support\n",
    "The markdown box is MathJax aware, so you can do cool things such as:\n",
    "\\begin{equation*}\n",
    "\\left( \\sum_{k=1}^n a_k b_k \\right)^2 \\leq \\left( \\sum_{k=1}^n a_k^2 \\right) \\left( \\sum_{k=1}^n b_k^2 \\right)\n",
    "\\end{equation*}\n",
    "\n",
    "Latex can also be leveraged to export notebooks to pdf\n",
    "\n",
    "#### Export notebook to other files\n",
    "Including .pdf (using Latex), .html, .py, .rst, and .md. Use ```File > Download as > ...```\n",
    "\n",
    "[when all else fails...](http://jupyter-notebook.readthedocs.io/en/latest/index.html)"
   ]
  },
  {
   "cell_type": "code",
   "execution_count": null,
   "metadata": {
    "collapsed": true
   },
   "outputs": [],
   "source": []
  }
 ],
 "metadata": {
  "anaconda-cloud": {},
  "kernelspec": {
   "display_name": "Python [conda env:rpy2_setup]",
   "language": "python",
   "name": "conda-env-rpy2_setup-py"
  },
  "language_info": {
   "codemirror_mode": {
    "name": "ipython",
    "version": 3
   },
   "file_extension": ".py",
   "mimetype": "text/x-python",
   "name": "python",
   "nbconvert_exporter": "python",
   "pygments_lexer": "ipython3",
   "version": "3.5.3"
  },
  "nbpresent": {
   "slides": {
    "2438e8a3-5a0c-43bf-8b37-61cdc1a68719": {
     "id": "2438e8a3-5a0c-43bf-8b37-61cdc1a68719",
     "layout": "manual",
     "prev": "8b6a0555-2296-4f10-ab17-b545274048b3",
     "regions": {
      "5b21db70-fecc-4d61-aa59-32df18c46316": {
       "attrs": {
        "height": 0.25642649775666404,
        "width": 0.37624703087885986,
        "x": 0.04893111638954868,
        "y": 0.293085246766957
       },
       "content": {
        "cell": "970d79a6-e00c-402e-bbdc-591e9833d4d8",
        "part": "whole"
       },
       "id": "5b21db70-fecc-4d61-aa59-32df18c46316"
      },
      "8417fe14-a5ab-497c-b97b-cee132f18092": {
       "attrs": {
        "height": 0.9003958828186858,
        "width": 0.5092636579572447,
        "x": 0.45011876484560565,
        "y": 0.054499868039060435
       },
       "content": {
        "cell": "d5478148-e9f7-44e5-87a3-25ad1ac515b9",
        "part": "outputs"
       },
       "id": "8417fe14-a5ab-497c-b97b-cee132f18092"
      },
      "ddd3f6ae-1a33-4927-9389-bd3f6a527059": {
       "attrs": {
        "height": 0.4000000000000001,
        "width": 0.37030878859857486,
        "x": 0.052256532066508314,
        "y": 0.5666138822908419
       },
       "content": {
        "cell": "d5478148-e9f7-44e5-87a3-25ad1ac515b9",
        "part": "source"
       },
       "id": "ddd3f6ae-1a33-4927-9389-bd3f6a527059"
      },
      "fa7cc07d-1d37-4dc2-907e-b2657f539478": {
       "attrs": {
        "height": 0.22686724729480076,
        "width": 0.38574821852731594,
        "x": 0.04418052256532065,
        "y": 0.04721562417524415
       },
       "content": {
        "cell": "86c2e7d7-19d6-4373-8ccb-58f4cde2a75a",
        "part": "whole"
       },
       "id": "fa7cc07d-1d37-4dc2-907e-b2657f539478"
      }
     }
    },
    "8b6a0555-2296-4f10-ab17-b545274048b3": {
     "id": "8b6a0555-2296-4f10-ab17-b545274048b3",
     "layout": "manual",
     "prev": null,
     "regions": {
      "135cf13c-ad53-4526-b8a0-59a2017c4377": {
       "attrs": {
        "height": 0.3807732911058327,
        "pad": 0.01,
        "treemap:weight": 2.5,
        "width": 1,
        "x": 0,
        "y": 0.6192267088941673
       },
       "content": {
        "cell": "742b7d43-3ee3-4044-8e4b-c9df840ec471",
        "part": "whole"
       },
       "id": "135cf13c-ad53-4526-b8a0-59a2017c4377",
       "pad": 0.1,
       "width": 1
      },
      "395fa896-4776-4c9d-a805-b553f9fbf0c8": {
       "attrs": {
        "height": 0.5833333333333334,
        "pad": 0.01,
        "treemap:weight": 1,
        "width": 4.25,
        "x": 0.6666666666666666,
        "y": 0
       },
       "content": {
        "cell": "f0611c52-4edb-4922-8767-361e4b8cec66",
        "part": "whole"
       },
       "id": "395fa896-4776-4c9d-a805-b553f9fbf0c8",
       "pad": 0.1,
       "width": 0.2
      },
      "a78ce078-ecde-422e-af45-88fe65368b6f": {
       "attrs": {
        "height": 0.5833333333333334,
        "pad": 0.01,
        "treemap:weight": 1,
        "width": 0.34283452098178935,
        "x": 0.2988915281076801,
        "y": 0
       },
       "content": {
        "cell": "f9509270-3cd7-46fc-a1ba-5b2fb670c852",
        "part": "whole"
       },
       "id": "a78ce078-ecde-422e-af45-88fe65368b6f",
       "pad": 0.1,
       "width": 0.2
      },
      "c67ebfb8-f0af-49ff-9fa7-70d44cc5220d": {
       "attrs": {
        "height": 0.5833333333333334,
        "pad": 0.01,
        "treemap:weight": 1,
        "width": 0.27830562153602534,
        "x": 0,
        "y": 0
       },
       "content": {
        "cell": "0f44c0a3-0e10-4004-bfb8-b91c731a60f0",
        "part": "whole"
       },
       "id": "c67ebfb8-f0af-49ff-9fa7-70d44cc5220d",
       "pad": 0.1,
       "width": 0.2
      }
     }
    }
   },
   "themes": {}
  }
 },
 "nbformat": 4,
 "nbformat_minor": 2
}
