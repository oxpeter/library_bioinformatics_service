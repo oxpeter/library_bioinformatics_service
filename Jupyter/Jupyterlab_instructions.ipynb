{
 "cells": [
  {
   "cell_type": "markdown",
   "metadata": {
    "toc": "true"
   },
   "source": [
    "# Instructions for installation and configuration of Jupyterlab\n",
    "\n",
    "These instructions form a quick and simple setup to get Jupyterlab running via Anaconda.\n",
    "\n",
    "## Install software\n",
    "1. Visit (anaconda.org)[anaconda.org]\n",
    "2. Download and install Anaconda\n",
    "3. Visit (nodejs.org )[nodejs.org]\n",
    "4. Download and install nodejs\n",
    "\n",
    "## Setup environment\n",
    "5. Open Anaconda\n",
    "6. Click on \"Environments\" tab on left panel\n",
    "7. Click on \"Create\" at bottom of middle panel to create new environment\n",
    "8. Give new environment a name and select python3 (and any additional choices)\n",
    "9. Select \"Chanels\" in the top of the right-hand panel\n",
    "10. Select \"Add...\" in the top right corner\n",
    "11. Enter `conda-forge` and hit enter.\n",
    "12. Click \"Update channels\" and then close the window.\n",
    "13. Select \"All\" from the dropdown menu in the top of the right-hand panel.\n",
    "14. Click \"Update index\"\n",
    "14. Enter `jupyterlab` in the textbox to the right.\n",
    "15. Select \"jupyterlab\" from the options.\n",
    "16. Click \"Apply\" in the bottom right corner.\n",
    "17. A window will pop up showing the updates that will be made. Select \"Accept\" to install jupyterlab.\n",
    "18. Repeat from step 11 to add any additional libraries (eg pandas, scipy, scikit-learn)\n",
    "\n",
    "## Install google-drive extension\n",
    "1. in terminal, ensure that anaconda/bin is included in your path:\n",
    "\n",
    "    `eg. export PATH=\"/User/Guest/anaconda/bin:$PATH`\n",
    "\n",
    "\n",
    "2. activate the environment created above:\n",
    "\n",
    "    `source activate <envt_name>`\n",
    "\n",
    "\n",
    "3. install (google-drive)[https://github.com/jupyterlab/jupyterlab-google-drive] extension :\n",
    "\n",
    "    `jupyter labextension install @jupyterlab/google-drive`\n",
    "\n",
    "\n",
    "## Launch JupyterLab server\n",
    "1. In terminal, enter:\n",
    "\n",
    "    `jupyter lab`\n"
   ]
  },
  {
   "cell_type": "markdown",
   "metadata": {},
   "source": [
    "## ipywidgets\n",
    "```\n",
    "jupyter labextension install @jupyter-widgets/jupyterlab-manager\n",
    "```\n"
   ]
  },
  {
   "cell_type": "markdown",
   "metadata": {},
   "source": [
    "**oops. Looks like this is broken in 0.27.0**"
   ]
  },
  {
   "cell_type": "markdown",
   "metadata": {},
   "source": [
    "## Jupyterlab renderers\n",
    "* plotly\n",
    "* json\n",
    "* geojson\n",
    "\n",
    "https://github.com/jupyterlab/jupyter-renderers"
   ]
  },
  {
   "cell_type": "markdown",
   "metadata": {},
   "source": [
    "# A few Jupyter examples"
   ]
  },
  {
   "cell_type": "code",
   "execution_count": 1,
   "metadata": {
    "collapsed": true
   },
   "outputs": [],
   "source": [
    "%matplotlib inline\n",
    "import matplotlib.pyplot as plt\n",
    "from ipywidgets import interact, interactive\n",
    "import ipywidgets\n"
   ]
  },
  {
   "cell_type": "code",
   "execution_count": 2,
   "metadata": {},
   "outputs": [],
   "source": [
    "import pandas as pd"
   ]
  },
  {
   "cell_type": "code",
   "execution_count": 3,
   "metadata": {},
   "outputs": [],
   "source": [
    "df = pd.read_csv(\"DESeq2_pvalues.out\", sep=' ')\n",
    "df[\"pathway\"] = df.baseMean.apply(lambda x: int(x)%7)"
   ]
  },
  {
   "cell_type": "code",
   "execution_count": 4,
   "metadata": {},
   "outputs": [
    {
     "data": {
      "text/html": [
       "<div>\n",
       "<style>\n",
       "    .dataframe thead tr:only-child th {\n",
       "        text-align: right;\n",
       "    }\n",
       "\n",
       "    .dataframe thead th {\n",
       "        text-align: left;\n",
       "    }\n",
       "\n",
       "    .dataframe tbody tr th {\n",
       "        vertical-align: top;\n",
       "    }\n",
       "</style>\n",
       "<table border=\"1\" class=\"dataframe\">\n",
       "  <thead>\n",
       "    <tr style=\"text-align: right;\">\n",
       "      <th></th>\n",
       "      <th>baseMean</th>\n",
       "      <th>log2FoldChange</th>\n",
       "      <th>lfcSE</th>\n",
       "      <th>stat</th>\n",
       "      <th>pvalue</th>\n",
       "      <th>padj</th>\n",
       "      <th>pathway</th>\n",
       "    </tr>\n",
       "  </thead>\n",
       "  <tbody>\n",
       "    <tr>\n",
       "      <th>ENSG00000000003.10</th>\n",
       "      <td>1.958923</td>\n",
       "      <td>1.507327</td>\n",
       "      <td>2.280241</td>\n",
       "      <td>5.898438</td>\n",
       "      <td>4.346629e-01</td>\n",
       "      <td>5.167232e-01</td>\n",
       "      <td>1</td>\n",
       "    </tr>\n",
       "    <tr>\n",
       "      <th>ENSG00000000005.5</th>\n",
       "      <td>0.000000</td>\n",
       "      <td>NaN</td>\n",
       "      <td>NaN</td>\n",
       "      <td>NaN</td>\n",
       "      <td>NaN</td>\n",
       "      <td>NaN</td>\n",
       "      <td>0</td>\n",
       "    </tr>\n",
       "    <tr>\n",
       "      <th>ENSG00000000419.8</th>\n",
       "      <td>1245.038399</td>\n",
       "      <td>-0.240458</td>\n",
       "      <td>0.114002</td>\n",
       "      <td>319.074644</td>\n",
       "      <td>6.667458e-66</td>\n",
       "      <td>3.164103e-65</td>\n",
       "      <td>6</td>\n",
       "    </tr>\n",
       "    <tr>\n",
       "      <th>ENSG00000000457.8</th>\n",
       "      <td>573.445192</td>\n",
       "      <td>0.114238</td>\n",
       "      <td>0.125212</td>\n",
       "      <td>88.851140</td>\n",
       "      <td>5.248090e-17</td>\n",
       "      <td>1.258779e-16</td>\n",
       "      <td>6</td>\n",
       "    </tr>\n",
       "    <tr>\n",
       "      <th>ENSG00000000460.12</th>\n",
       "      <td>790.056229</td>\n",
       "      <td>0.411113</td>\n",
       "      <td>0.119781</td>\n",
       "      <td>1170.842594</td>\n",
       "      <td>9.775789e-250</td>\n",
       "      <td>1.707693e-248</td>\n",
       "      <td>6</td>\n",
       "    </tr>\n",
       "  </tbody>\n",
       "</table>\n",
       "</div>"
      ],
      "text/plain": [
       "                       baseMean  log2FoldChange     lfcSE         stat  \\\n",
       "ENSG00000000003.10     1.958923        1.507327  2.280241     5.898438   \n",
       "ENSG00000000005.5      0.000000             NaN       NaN          NaN   \n",
       "ENSG00000000419.8   1245.038399       -0.240458  0.114002   319.074644   \n",
       "ENSG00000000457.8    573.445192        0.114238  0.125212    88.851140   \n",
       "ENSG00000000460.12   790.056229        0.411113  0.119781  1170.842594   \n",
       "\n",
       "                           pvalue           padj  pathway  \n",
       "ENSG00000000003.10   4.346629e-01   5.167232e-01        1  \n",
       "ENSG00000000005.5             NaN            NaN        0  \n",
       "ENSG00000000419.8    6.667458e-66   3.164103e-65        6  \n",
       "ENSG00000000457.8    5.248090e-17   1.258779e-16        6  \n",
       "ENSG00000000460.12  9.775789e-250  1.707693e-248        6  "
      ]
     },
     "execution_count": 4,
     "metadata": {},
     "output_type": "execute_result"
    }
   ],
   "source": [
    "df.head()"
   ]
  }
 ],
 "metadata": {
  "anaconda-cloud": {},
  "kernelspec": {
   "display_name": "Python 3",
   "language": "python",
   "name": "python3"
  },
  "language_info": {
   "codemirror_mode": {
    "name": "ipython",
    "version": 3
   },
   "file_extension": ".py",
   "mimetype": "text/x-python",
   "name": "python",
   "nbconvert_exporter": "python",
   "pygments_lexer": "ipython3",
   "version": "3.6.2"
  },
  "toc": {
   "colors": {
    "hover_highlight": "#DAA520",
    "navigate_num": "#000000",
    "navigate_text": "#333333",
    "running_highlight": "#FF0000",
    "selected_highlight": "#FFD700",
    "sidebar_border": "#EEEEEE",
    "wrapper_background": "#FFFFFF"
   },
   "moveMenuLeft": true,
   "nav_menu": {
    "height": "12px",
    "width": "252px"
   },
   "navigate_menu": true,
   "number_sections": false,
   "sideBar": true,
   "threshold": 4,
   "toc_cell": true,
   "toc_section_display": "block",
   "toc_window_display": false,
   "widenNotebook": false
  }
 },
 "nbformat": 4,
 "nbformat_minor": 2
}
